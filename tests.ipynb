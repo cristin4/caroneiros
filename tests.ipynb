{
 "cells": [
  {
   "cell_type": "code",
   "execution_count": 1,
   "metadata": {},
   "outputs": [
    {
     "data": {
      "text/plain": [
       "{'_Carpool__identifier': 'd2409',\n",
       " 'ride': Ride(date=None, origin='A', destination='B'),\n",
       " 'driver_username': 'gmr',\n",
       " 'seats_available': 0,\n",
       " 'status': '?',\n",
       " 'passengers_usernames': ['maria', 'laura']}"
      ]
     },
     "execution_count": 1,
     "metadata": {},
     "output_type": "execute_result"
    }
   ],
   "source": [
    "from modules.carpool import Carpool\n",
    "from modules.user import User\n",
    "import gmr82\n",
    "\n",
    "user = User('gmr')\n",
    "carpool = Carpool('B', 'A', user.username)\n",
    "carpool.passengers_usernames = ['maria', 'laura']\n",
    "\n",
    "carpool.tuple_attributes()"
   ]
  }
 ],
 "metadata": {
  "kernelspec": {
   "display_name": "Python 3",
   "language": "python",
   "name": "python3"
  },
  "language_info": {
   "codemirror_mode": {
    "name": "ipython",
    "version": 3
   },
   "file_extension": ".py",
   "mimetype": "text/x-python",
   "name": "python",
   "nbconvert_exporter": "python",
   "pygments_lexer": "ipython3",
   "version": "3.11.4"
  },
  "orig_nbformat": 4
 },
 "nbformat": 4,
 "nbformat_minor": 2
}
